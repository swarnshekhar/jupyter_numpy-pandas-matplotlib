{
 "cells": [
  {
   "cell_type": "code",
   "execution_count": 1,
   "id": "1ce4bed3-cb7c-44c8-981a-7e88e30d8def",
   "metadata": {},
   "outputs": [],
   "source": [
    "import numpy as np\n"
   ]
  },
  {
   "cell_type": "code",
   "execution_count": 2,
   "id": "1793e905-8915-4f05-81a0-84dff7590ea4",
   "metadata": {},
   "outputs": [],
   "source": [
    "np.random.seed(2)"
   ]
  },
  {
   "cell_type": "code",
   "execution_count": 3,
   "id": "8e804c2e-1164-4ddd-82b3-2514cbc80523",
   "metadata": {},
   "outputs": [],
   "source": [
    "x1=np.random.randint(10,size=6)"
   ]
  },
  {
   "cell_type": "code",
   "execution_count": 4,
   "id": "ebae9e78-6031-45e1-8a63-8d3c30849555",
   "metadata": {},
   "outputs": [],
   "source": [
    "x2=np.random.randint(10,size=(3,4))\n"
   ]
  },
  {
   "cell_type": "code",
   "execution_count": 5,
   "id": "c75d9180-e774-4d7d-9670-4feb948ead7b",
   "metadata": {},
   "outputs": [],
   "source": [
    "x3=np.random.randint(10,size=(3,4,5))"
   ]
  },
  {
   "cell_type": "code",
   "execution_count": 6,
   "id": "481d6214-359a-4a63-bbbc-effbb132dc67",
   "metadata": {},
   "outputs": [
    {
     "name": "stdout",
     "output_type": "stream",
     "text": [
      "1\n"
     ]
    }
   ],
   "source": [
    "print(x1.ndim)"
   ]
  },
  {
   "cell_type": "code",
   "execution_count": 7,
   "id": "bf7531ff-f0af-4247-9d08-afcd290d7d65",
   "metadata": {},
   "outputs": [
    {
     "name": "stdout",
     "output_type": "stream",
     "text": [
      "6\n"
     ]
    }
   ],
   "source": [
    "print(x1.size)"
   ]
  },
  {
   "cell_type": "code",
   "execution_count": 8,
   "id": "990a3b4c-5185-474c-927f-6d6ccd4b7748",
   "metadata": {},
   "outputs": [
    {
     "name": "stdout",
     "output_type": "stream",
     "text": [
      "(6,)\n"
     ]
    }
   ],
   "source": [
    "print(x1.shape)"
   ]
  },
  {
   "cell_type": "code",
   "execution_count": 9,
   "id": "82c0aa4d-1941-42f6-b2eb-ac52bd05098e",
   "metadata": {},
   "outputs": [
    {
     "name": "stdout",
     "output_type": "stream",
     "text": [
      "2\n"
     ]
    }
   ],
   "source": [
    "print(x2.ndim)"
   ]
  },
  {
   "cell_type": "code",
   "execution_count": 10,
   "id": "2b7eb143-0c56-4af0-a04a-5528e07241fa",
   "metadata": {},
   "outputs": [
    {
     "name": "stdout",
     "output_type": "stream",
     "text": [
      "(3, 4)\n"
     ]
    }
   ],
   "source": [
    "print(x2.shape)"
   ]
  },
  {
   "cell_type": "code",
   "execution_count": 11,
   "id": "6bcab4b7-b023-4cb3-b5ed-b074fdd308c9",
   "metadata": {},
   "outputs": [
    {
     "name": "stdout",
     "output_type": "stream",
     "text": [
      "12\n"
     ]
    }
   ],
   "source": [
    "print(x2.size)"
   ]
  },
  {
   "cell_type": "code",
   "execution_count": null,
   "id": "27b2e245-e458-4cc6-b899-cfcb52154ef4",
   "metadata": {},
   "outputs": [],
   "source": []
  },
  {
   "cell_type": "code",
   "execution_count": null,
   "id": "8164f625-0dc8-41c3-8b75-efd4809b9861",
   "metadata": {},
   "outputs": [],
   "source": []
  }
 ],
 "metadata": {
  "kernelspec": {
   "display_name": "Python 3 (ipykernel)",
   "language": "python",
   "name": "python3"
  },
  "language_info": {
   "codemirror_mode": {
    "name": "ipython",
    "version": 3
   },
   "file_extension": ".py",
   "mimetype": "text/x-python",
   "name": "python",
   "nbconvert_exporter": "python",
   "pygments_lexer": "ipython3",
   "version": "3.12.1"
  }
 },
 "nbformat": 4,
 "nbformat_minor": 5
}
