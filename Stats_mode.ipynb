{
 "cells": [
  {
   "cell_type": "code",
   "execution_count": 1,
   "id": "f78b6135-4c00-4578-9146-7071d80cdb9e",
   "metadata": {},
   "outputs": [],
   "source": [
    "import numpy as np"
   ]
  },
  {
   "cell_type": "code",
   "execution_count": 2,
   "id": "d2de0ee0-e751-447e-8d2d-329039de733e",
   "metadata": {},
   "outputs": [],
   "source": [
    "import pandas as pd"
   ]
  },
  {
   "cell_type": "code",
   "execution_count": 3,
   "id": "d3d2a6c2-8c38-422b-8abd-704fa9086506",
   "metadata": {},
   "outputs": [],
   "source": [
    "from scipy import stats"
   ]
  },
  {
   "cell_type": "code",
   "execution_count": 4,
   "id": "f51480b2-974d-4214-b8a4-37f622795957",
   "metadata": {},
   "outputs": [],
   "source": [
    "a=np.array([[1,2,3,2,2,7],\n",
    "            [5,2,2,1,4,1],\n",
    "            [3,3,2,2,1,1]])\n"
   ]
  },
  {
   "cell_type": "code",
   "execution_count": 5,
   "id": "3ab5c96a-6f84-4771-96c4-961931edb032",
   "metadata": {},
   "outputs": [],
   "source": [
    "m=stats.mode(a)\n"
   ]
  },
  {
   "cell_type": "code",
   "execution_count": 7,
   "id": "3bda0745-7420-4368-bf19-e5dfdc74667d",
   "metadata": {},
   "outputs": [
    {
     "data": {
      "text/plain": [
       "ModeResult(mode=array([1, 2, 2, 2, 1, 1], dtype=int64), count=array([1, 2, 2, 2, 1, 2], dtype=int64))"
      ]
     },
     "execution_count": 7,
     "metadata": {},
     "output_type": "execute_result"
    }
   ],
   "source": [
    "m"
   ]
  },
  {
   "cell_type": "code",
   "execution_count": 8,
   "id": "60aa4fdd-7a4a-461b-899d-314755e61318",
   "metadata": {},
   "outputs": [
    {
     "name": "stdout",
     "output_type": "stream",
     "text": [
      "[1 2 2 2 1 1]\n"
     ]
    }
   ],
   "source": [
    "print(m[0])"
   ]
  },
  {
   "cell_type": "code",
   "execution_count": null,
   "id": "819799ca-e8e5-41ce-a016-5b578ace3272",
   "metadata": {},
   "outputs": [],
   "source": []
  }
 ],
 "metadata": {
  "kernelspec": {
   "display_name": "Python 3 (ipykernel)",
   "language": "python",
   "name": "python3"
  },
  "language_info": {
   "codemirror_mode": {
    "name": "ipython",
    "version": 3
   },
   "file_extension": ".py",
   "mimetype": "text/x-python",
   "name": "python",
   "nbconvert_exporter": "python",
   "pygments_lexer": "ipython3",
   "version": "3.12.1"
  }
 },
 "nbformat": 4,
 "nbformat_minor": 5
}
