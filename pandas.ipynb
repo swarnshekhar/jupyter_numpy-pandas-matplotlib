{
 "cells": [
  {
   "cell_type": "markdown",
   "id": "4029c128-c17b-4f0b-a6f2-0125cc54f4d6",
   "metadata": {},
   "source": [
    "# Series"
   ]
  },
  {
   "cell_type": "code",
   "execution_count": 1,
   "id": "69efb43e-95d3-45d0-9b4f-c055fea950d3",
   "metadata": {},
   "outputs": [],
   "source": [
    "import pandas as pd"
   ]
  },
  {
   "cell_type": "code",
   "execution_count": 2,
   "id": "6a8af655-cb41-497d-90a8-7c56b9e22d54",
   "metadata": {},
   "outputs": [],
   "source": [
    "series2=pd.Series([10,20,30,40,50],index=['a','b','c','d','e'])"
   ]
  },
  {
   "cell_type": "code",
   "execution_count": 3,
   "id": "8ba05f52-d520-47f8-af20-25a37afc9203",
   "metadata": {},
   "outputs": [
    {
     "data": {
      "text/plain": [
       "a    10\n",
       "b    20\n",
       "c    30\n",
       "d    40\n",
       "e    50\n",
       "dtype: int64"
      ]
     },
     "execution_count": 3,
     "metadata": {},
     "output_type": "execute_result"
    }
   ],
   "source": [
    "series2"
   ]
  },
  {
   "cell_type": "code",
   "execution_count": 4,
   "id": "ce27f982-6d77-42a8-a28d-594a5331aafa",
   "metadata": {},
   "outputs": [
    {
     "name": "stdout",
     "output_type": "stream",
     "text": [
      "a    15\n",
      "b    25\n",
      "c    35\n",
      "d    45\n",
      "e    55\n",
      "dtype: int64\n"
     ]
    }
   ],
   "source": [
    "print(series2+5)"
   ]
  },
  {
   "cell_type": "code",
   "execution_count": 5,
   "id": "395860ea-e19b-463f-b1bf-b742625178e3",
   "metadata": {},
   "outputs": [],
   "source": [
    "data={\"abc\":1,\"def\":2,\"ghi\":3}"
   ]
  },
  {
   "cell_type": "code",
   "execution_count": 6,
   "id": "e4c78f84-6eb5-4f4a-a1f0-8f1d96e7f056",
   "metadata": {},
   "outputs": [
    {
     "data": {
      "text/plain": [
       "{'abc': 1, 'def': 2, 'ghi': 3}"
      ]
     },
     "execution_count": 6,
     "metadata": {},
     "output_type": "execute_result"
    }
   ],
   "source": [
    "data\n"
   ]
  },
  {
   "cell_type": "code",
   "execution_count": 7,
   "id": "ba3735f1-ebb9-42f7-b95b-4413853c09c2",
   "metadata": {},
   "outputs": [
    {
     "data": {
      "text/plain": [
       "abc    1\n",
       "def    2\n",
       "ghi    3\n",
       "dtype: int64"
      ]
     },
     "execution_count": 7,
     "metadata": {},
     "output_type": "execute_result"
    }
   ],
   "source": [
    "pd.Series(data)"
   ]
  },
  {
   "cell_type": "markdown",
   "id": "e20bf919-d3b5-4880-b799-a8fece1fbeb8",
   "metadata": {},
   "source": [
    "# Data Frame"
   ]
  },
  {
   "cell_type": "code",
   "execution_count": 8,
   "id": "c077224c-ab33-4ec0-84d5-5f120db44065",
   "metadata": {},
   "outputs": [
    {
     "name": "stdout",
     "output_type": "stream",
     "text": [
      "Empty DataFrame\n",
      "Columns: []\n",
      "Index: []\n"
     ]
    }
   ],
   "source": [
    "print(pd.DataFrame())"
   ]
  },
  {
   "cell_type": "code",
   "execution_count": 9,
   "id": "8d0e10de-02f1-4330-8501-f21b6b7b1ad6",
   "metadata": {},
   "outputs": [],
   "source": [
    "data=[[\"swarn1\",10,\"4star\"],[\"sudhanshu2\",20,\"4star\"],[\"apurva3\",30,\"4star\"],[\"swarn4\",10,\"4star\"],[\"sudhanshu5\",20,\"4star\"],[\"apurva6\",30,\"4star\"]]"
   ]
  },
  {
   "cell_type": "code",
   "execution_count": 10,
   "id": "3fa30c1a-cdbe-4914-bcc3-08bae99f3b60",
   "metadata": {},
   "outputs": [
    {
     "data": {
      "text/plain": [
       "[['swarn', 10, '4star'],\n",
       " ['sudhanshu', 20, '4star'],\n",
       " ['apurva', 30, '4star'],\n",
       " ['swarn', 10, '4star'],\n",
       " ['sudhanshu', 20, '4star'],\n",
       " ['apurva', 30, '4star']]"
      ]
     },
     "execution_count": 10,
     "metadata": {},
     "output_type": "execute_result"
    }
   ],
   "source": [
    "data"
   ]
  },
  {
   "cell_type": "code",
   "execution_count": 11,
   "id": "986510b4-56bd-443d-8bd2-1c17cecf5294",
   "metadata": {},
   "outputs": [],
   "source": [
    "df=pd.DataFrame(data)"
   ]
  },
  {
   "cell_type": "code",
   "execution_count": 12,
   "id": "271f97c4-02b7-4508-b97f-b07851bfcdac",
   "metadata": {},
   "outputs": [
    {
     "data": {
      "text/html": [
       "<div>\n",
       "<style scoped>\n",
       "    .dataframe tbody tr th:only-of-type {\n",
       "        vertical-align: middle;\n",
       "    }\n",
       "\n",
       "    .dataframe tbody tr th {\n",
       "        vertical-align: top;\n",
       "    }\n",
       "\n",
       "    .dataframe thead th {\n",
       "        text-align: right;\n",
       "    }\n",
       "</style>\n",
       "<table border=\"1\" class=\"dataframe\">\n",
       "  <thead>\n",
       "    <tr style=\"text-align: right;\">\n",
       "      <th></th>\n",
       "      <th>0</th>\n",
       "      <th>1</th>\n",
       "      <th>2</th>\n",
       "    </tr>\n",
       "  </thead>\n",
       "  <tbody>\n",
       "    <tr>\n",
       "      <th>0</th>\n",
       "      <td>swarn</td>\n",
       "      <td>10</td>\n",
       "      <td>4star</td>\n",
       "    </tr>\n",
       "    <tr>\n",
       "      <th>1</th>\n",
       "      <td>sudhanshu</td>\n",
       "      <td>20</td>\n",
       "      <td>4star</td>\n",
       "    </tr>\n",
       "    <tr>\n",
       "      <th>2</th>\n",
       "      <td>apurva</td>\n",
       "      <td>30</td>\n",
       "      <td>4star</td>\n",
       "    </tr>\n",
       "    <tr>\n",
       "      <th>3</th>\n",
       "      <td>swarn</td>\n",
       "      <td>10</td>\n",
       "      <td>4star</td>\n",
       "    </tr>\n",
       "    <tr>\n",
       "      <th>4</th>\n",
       "      <td>sudhanshu</td>\n",
       "      <td>20</td>\n",
       "      <td>4star</td>\n",
       "    </tr>\n",
       "    <tr>\n",
       "      <th>5</th>\n",
       "      <td>apurva</td>\n",
       "      <td>30</td>\n",
       "      <td>4star</td>\n",
       "    </tr>\n",
       "  </tbody>\n",
       "</table>\n",
       "</div>"
      ],
      "text/plain": [
       "           0   1      2\n",
       "0      swarn  10  4star\n",
       "1  sudhanshu  20  4star\n",
       "2     apurva  30  4star\n",
       "3      swarn  10  4star\n",
       "4  sudhanshu  20  4star\n",
       "5     apurva  30  4star"
      ]
     },
     "execution_count": 12,
     "metadata": {},
     "output_type": "execute_result"
    }
   ],
   "source": [
    "df"
   ]
  },
  {
   "cell_type": "code",
   "execution_count": 13,
   "id": "131efbbb-0ef8-4ee5-9324-98ed7fa1f288",
   "metadata": {},
   "outputs": [],
   "source": [
    "df=pd.DataFrame(data,columns=[\"name\",\"scorecard\",\"lifegoal\"])"
   ]
  },
  {
   "cell_type": "code",
   "execution_count": 14,
   "id": "51ef4dc2-e26e-4dde-967d-665f8de4a524",
   "metadata": {},
   "outputs": [
    {
     "data": {
      "text/html": [
       "<div>\n",
       "<style scoped>\n",
       "    .dataframe tbody tr th:only-of-type {\n",
       "        vertical-align: middle;\n",
       "    }\n",
       "\n",
       "    .dataframe tbody tr th {\n",
       "        vertical-align: top;\n",
       "    }\n",
       "\n",
       "    .dataframe thead th {\n",
       "        text-align: right;\n",
       "    }\n",
       "</style>\n",
       "<table border=\"1\" class=\"dataframe\">\n",
       "  <thead>\n",
       "    <tr style=\"text-align: right;\">\n",
       "      <th></th>\n",
       "      <th>name</th>\n",
       "      <th>scorecard</th>\n",
       "      <th>lifegoal</th>\n",
       "    </tr>\n",
       "  </thead>\n",
       "  <tbody>\n",
       "    <tr>\n",
       "      <th>0</th>\n",
       "      <td>swarn</td>\n",
       "      <td>10</td>\n",
       "      <td>4star</td>\n",
       "    </tr>\n",
       "    <tr>\n",
       "      <th>1</th>\n",
       "      <td>sudhanshu</td>\n",
       "      <td>20</td>\n",
       "      <td>4star</td>\n",
       "    </tr>\n",
       "    <tr>\n",
       "      <th>2</th>\n",
       "      <td>apurva</td>\n",
       "      <td>30</td>\n",
       "      <td>4star</td>\n",
       "    </tr>\n",
       "    <tr>\n",
       "      <th>3</th>\n",
       "      <td>swarn</td>\n",
       "      <td>10</td>\n",
       "      <td>4star</td>\n",
       "    </tr>\n",
       "    <tr>\n",
       "      <th>4</th>\n",
       "      <td>sudhanshu</td>\n",
       "      <td>20</td>\n",
       "      <td>4star</td>\n",
       "    </tr>\n",
       "    <tr>\n",
       "      <th>5</th>\n",
       "      <td>apurva</td>\n",
       "      <td>30</td>\n",
       "      <td>4star</td>\n",
       "    </tr>\n",
       "  </tbody>\n",
       "</table>\n",
       "</div>"
      ],
      "text/plain": [
       "        name  scorecard lifegoal\n",
       "0      swarn         10    4star\n",
       "1  sudhanshu         20    4star\n",
       "2     apurva         30    4star\n",
       "3      swarn         10    4star\n",
       "4  sudhanshu         20    4star\n",
       "5     apurva         30    4star"
      ]
     },
     "execution_count": 14,
     "metadata": {},
     "output_type": "execute_result"
    }
   ],
   "source": [
    "df"
   ]
  },
  {
   "cell_type": "code",
   "execution_count": 15,
   "id": "ba91b81d-5c78-465f-ab22-a8339f38f8a4",
   "metadata": {},
   "outputs": [
    {
     "data": {
      "text/plain": [
       "0        swarn\n",
       "1    sudhanshu\n",
       "2       apurva\n",
       "3        swarn\n",
       "4    sudhanshu\n",
       "5       apurva\n",
       "Name: name, dtype: object"
      ]
     },
     "execution_count": 15,
     "metadata": {},
     "output_type": "execute_result"
    }
   ],
   "source": [
    "df.name\n"
   ]
  },
  {
   "cell_type": "code",
   "execution_count": 16,
   "id": "85f1ce6d-27b4-44af-bb0a-ec190656744b",
   "metadata": {},
   "outputs": [
    {
     "data": {
      "text/plain": [
       "0    4star\n",
       "1    4star\n",
       "2    4star\n",
       "3    4star\n",
       "4    4star\n",
       "5    4star\n",
       "Name: lifegoal, dtype: object"
      ]
     },
     "execution_count": 16,
     "metadata": {},
     "output_type": "execute_result"
    }
   ],
   "source": [
    "df.lifegoal"
   ]
  },
  {
   "cell_type": "code",
   "execution_count": 17,
   "id": "66900fbe-1a21-4f4d-ad55-cbe1d4efcdde",
   "metadata": {},
   "outputs": [
    {
     "data": {
      "text/plain": [
       "0        swarn\n",
       "1    sudhanshu\n",
       "2       apurva\n",
       "3        swarn\n",
       "4    sudhanshu\n",
       "5       apurva\n",
       "Name: name, dtype: object"
      ]
     },
     "execution_count": 17,
     "metadata": {},
     "output_type": "execute_result"
    }
   ],
   "source": [
    "df[\"name\"]"
   ]
  },
  {
   "cell_type": "code",
   "execution_count": 18,
   "id": "f481b766-6e11-4b9b-b5f3-3c906cfb7b4d",
   "metadata": {},
   "outputs": [],
   "source": [
    "df[\"goal\"]=\"engineer\""
   ]
  },
  {
   "cell_type": "code",
   "execution_count": 19,
   "id": "65127b89-a9ec-4d28-b6d3-3ed57cf39065",
   "metadata": {},
   "outputs": [
    {
     "data": {
      "text/html": [
       "<div>\n",
       "<style scoped>\n",
       "    .dataframe tbody tr th:only-of-type {\n",
       "        vertical-align: middle;\n",
       "    }\n",
       "\n",
       "    .dataframe tbody tr th {\n",
       "        vertical-align: top;\n",
       "    }\n",
       "\n",
       "    .dataframe thead th {\n",
       "        text-align: right;\n",
       "    }\n",
       "</style>\n",
       "<table border=\"1\" class=\"dataframe\">\n",
       "  <thead>\n",
       "    <tr style=\"text-align: right;\">\n",
       "      <th></th>\n",
       "      <th>name</th>\n",
       "      <th>scorecard</th>\n",
       "      <th>lifegoal</th>\n",
       "      <th>goal</th>\n",
       "    </tr>\n",
       "  </thead>\n",
       "  <tbody>\n",
       "    <tr>\n",
       "      <th>0</th>\n",
       "      <td>swarn</td>\n",
       "      <td>10</td>\n",
       "      <td>4star</td>\n",
       "      <td>engineer</td>\n",
       "    </tr>\n",
       "    <tr>\n",
       "      <th>1</th>\n",
       "      <td>sudhanshu</td>\n",
       "      <td>20</td>\n",
       "      <td>4star</td>\n",
       "      <td>engineer</td>\n",
       "    </tr>\n",
       "    <tr>\n",
       "      <th>2</th>\n",
       "      <td>apurva</td>\n",
       "      <td>30</td>\n",
       "      <td>4star</td>\n",
       "      <td>engineer</td>\n",
       "    </tr>\n",
       "    <tr>\n",
       "      <th>3</th>\n",
       "      <td>swarn</td>\n",
       "      <td>10</td>\n",
       "      <td>4star</td>\n",
       "      <td>engineer</td>\n",
       "    </tr>\n",
       "    <tr>\n",
       "      <th>4</th>\n",
       "      <td>sudhanshu</td>\n",
       "      <td>20</td>\n",
       "      <td>4star</td>\n",
       "      <td>engineer</td>\n",
       "    </tr>\n",
       "    <tr>\n",
       "      <th>5</th>\n",
       "      <td>apurva</td>\n",
       "      <td>30</td>\n",
       "      <td>4star</td>\n",
       "      <td>engineer</td>\n",
       "    </tr>\n",
       "  </tbody>\n",
       "</table>\n",
       "</div>"
      ],
      "text/plain": [
       "        name  scorecard lifegoal      goal\n",
       "0      swarn         10    4star  engineer\n",
       "1  sudhanshu         20    4star  engineer\n",
       "2     apurva         30    4star  engineer\n",
       "3      swarn         10    4star  engineer\n",
       "4  sudhanshu         20    4star  engineer\n",
       "5     apurva         30    4star  engineer"
      ]
     },
     "execution_count": 19,
     "metadata": {},
     "output_type": "execute_result"
    }
   ],
   "source": [
    "df"
   ]
  },
  {
   "cell_type": "code",
   "execution_count": 20,
   "id": "a317ab3c-3208-441b-9853-aa0764da2f8a",
   "metadata": {},
   "outputs": [
    {
     "data": {
      "text/html": [
       "<div>\n",
       "<style scoped>\n",
       "    .dataframe tbody tr th:only-of-type {\n",
       "        vertical-align: middle;\n",
       "    }\n",
       "\n",
       "    .dataframe tbody tr th {\n",
       "        vertical-align: top;\n",
       "    }\n",
       "\n",
       "    .dataframe thead th {\n",
       "        text-align: right;\n",
       "    }\n",
       "</style>\n",
       "<table border=\"1\" class=\"dataframe\">\n",
       "  <thead>\n",
       "    <tr style=\"text-align: right;\">\n",
       "      <th></th>\n",
       "      <th>name</th>\n",
       "      <th>scorecard</th>\n",
       "      <th>lifegoal</th>\n",
       "      <th>goal</th>\n",
       "    </tr>\n",
       "  </thead>\n",
       "  <tbody>\n",
       "    <tr>\n",
       "      <th>0</th>\n",
       "      <td>swarn</td>\n",
       "      <td>10</td>\n",
       "      <td>4star</td>\n",
       "      <td>engineer</td>\n",
       "    </tr>\n",
       "    <tr>\n",
       "      <th>1</th>\n",
       "      <td>sudhanshu</td>\n",
       "      <td>20</td>\n",
       "      <td>4star</td>\n",
       "      <td>engineer</td>\n",
       "    </tr>\n",
       "    <tr>\n",
       "      <th>2</th>\n",
       "      <td>apurva</td>\n",
       "      <td>30</td>\n",
       "      <td>4star</td>\n",
       "      <td>engineer</td>\n",
       "    </tr>\n",
       "    <tr>\n",
       "      <th>3</th>\n",
       "      <td>swarn</td>\n",
       "      <td>10</td>\n",
       "      <td>4star</td>\n",
       "      <td>engineer</td>\n",
       "    </tr>\n",
       "    <tr>\n",
       "      <th>4</th>\n",
       "      <td>sudhanshu</td>\n",
       "      <td>20</td>\n",
       "      <td>4star</td>\n",
       "      <td>engineer</td>\n",
       "    </tr>\n",
       "    <tr>\n",
       "      <th>5</th>\n",
       "      <td>apurva</td>\n",
       "      <td>30</td>\n",
       "      <td>4star</td>\n",
       "      <td>engineer</td>\n",
       "    </tr>\n",
       "  </tbody>\n",
       "</table>\n",
       "</div>"
      ],
      "text/plain": [
       "        name  scorecard lifegoal      goal\n",
       "0      swarn         10    4star  engineer\n",
       "1  sudhanshu         20    4star  engineer\n",
       "2     apurva         30    4star  engineer\n",
       "3      swarn         10    4star  engineer\n",
       "4  sudhanshu         20    4star  engineer\n",
       "5     apurva         30    4star  engineer"
      ]
     },
     "execution_count": 20,
     "metadata": {},
     "output_type": "execute_result"
    }
   ],
   "source": [
    "df"
   ]
  },
  {
   "cell_type": "code",
   "execution_count": 21,
   "id": "436d8275-0e0b-4481-84f3-454b47d3459a",
   "metadata": {},
   "outputs": [],
   "source": [
    "del df['scorecard']"
   ]
  },
  {
   "cell_type": "code",
   "execution_count": 22,
   "id": "8433d42f-eacc-49ae-9778-d938748fd4f3",
   "metadata": {},
   "outputs": [
    {
     "data": {
      "text/html": [
       "<div>\n",
       "<style scoped>\n",
       "    .dataframe tbody tr th:only-of-type {\n",
       "        vertical-align: middle;\n",
       "    }\n",
       "\n",
       "    .dataframe tbody tr th {\n",
       "        vertical-align: top;\n",
       "    }\n",
       "\n",
       "    .dataframe thead th {\n",
       "        text-align: right;\n",
       "    }\n",
       "</style>\n",
       "<table border=\"1\" class=\"dataframe\">\n",
       "  <thead>\n",
       "    <tr style=\"text-align: right;\">\n",
       "      <th></th>\n",
       "      <th>name</th>\n",
       "      <th>lifegoal</th>\n",
       "      <th>goal</th>\n",
       "    </tr>\n",
       "  </thead>\n",
       "  <tbody>\n",
       "    <tr>\n",
       "      <th>0</th>\n",
       "      <td>swarn</td>\n",
       "      <td>4star</td>\n",
       "      <td>engineer</td>\n",
       "    </tr>\n",
       "    <tr>\n",
       "      <th>1</th>\n",
       "      <td>sudhanshu</td>\n",
       "      <td>4star</td>\n",
       "      <td>engineer</td>\n",
       "    </tr>\n",
       "    <tr>\n",
       "      <th>2</th>\n",
       "      <td>apurva</td>\n",
       "      <td>4star</td>\n",
       "      <td>engineer</td>\n",
       "    </tr>\n",
       "    <tr>\n",
       "      <th>3</th>\n",
       "      <td>swarn</td>\n",
       "      <td>4star</td>\n",
       "      <td>engineer</td>\n",
       "    </tr>\n",
       "    <tr>\n",
       "      <th>4</th>\n",
       "      <td>sudhanshu</td>\n",
       "      <td>4star</td>\n",
       "      <td>engineer</td>\n",
       "    </tr>\n",
       "    <tr>\n",
       "      <th>5</th>\n",
       "      <td>apurva</td>\n",
       "      <td>4star</td>\n",
       "      <td>engineer</td>\n",
       "    </tr>\n",
       "  </tbody>\n",
       "</table>\n",
       "</div>"
      ],
      "text/plain": [
       "        name lifegoal      goal\n",
       "0      swarn    4star  engineer\n",
       "1  sudhanshu    4star  engineer\n",
       "2     apurva    4star  engineer\n",
       "3      swarn    4star  engineer\n",
       "4  sudhanshu    4star  engineer\n",
       "5     apurva    4star  engineer"
      ]
     },
     "execution_count": 22,
     "metadata": {},
     "output_type": "execute_result"
    }
   ],
   "source": [
    "df"
   ]
  },
  {
   "cell_type": "code",
   "execution_count": 23,
   "id": "19c0ed7b-ad42-4b98-bcdf-6f714705963d",
   "metadata": {},
   "outputs": [
    {
     "name": "stdout",
     "output_type": "stream",
     "text": [
      "False\n"
     ]
    }
   ],
   "source": [
    "print(df.loc[1][\"goal\"]==\"programmer\")"
   ]
  },
  {
   "cell_type": "code",
   "execution_count": 24,
   "id": "fc6e0b17-23ef-42c8-aa8a-13a6ea9a81a8",
   "metadata": {},
   "outputs": [
    {
     "data": {
      "text/html": [
       "<div>\n",
       "<style scoped>\n",
       "    .dataframe tbody tr th:only-of-type {\n",
       "        vertical-align: middle;\n",
       "    }\n",
       "\n",
       "    .dataframe tbody tr th {\n",
       "        vertical-align: top;\n",
       "    }\n",
       "\n",
       "    .dataframe thead th {\n",
       "        text-align: right;\n",
       "    }\n",
       "</style>\n",
       "<table border=\"1\" class=\"dataframe\">\n",
       "  <thead>\n",
       "    <tr style=\"text-align: right;\">\n",
       "      <th></th>\n",
       "      <th>name</th>\n",
       "      <th>lifegoal</th>\n",
       "      <th>goal</th>\n",
       "    </tr>\n",
       "  </thead>\n",
       "  <tbody>\n",
       "    <tr>\n",
       "      <th>0</th>\n",
       "      <td>swarn</td>\n",
       "      <td>4star</td>\n",
       "      <td>engineer</td>\n",
       "    </tr>\n",
       "    <tr>\n",
       "      <th>1</th>\n",
       "      <td>sudhanshu</td>\n",
       "      <td>4star</td>\n",
       "      <td>engineer</td>\n",
       "    </tr>\n",
       "    <tr>\n",
       "      <th>2</th>\n",
       "      <td>apurva</td>\n",
       "      <td>4star</td>\n",
       "      <td>engineer</td>\n",
       "    </tr>\n",
       "    <tr>\n",
       "      <th>3</th>\n",
       "      <td>swarn</td>\n",
       "      <td>4star</td>\n",
       "      <td>engineer</td>\n",
       "    </tr>\n",
       "    <tr>\n",
       "      <th>4</th>\n",
       "      <td>sudhanshu</td>\n",
       "      <td>4star</td>\n",
       "      <td>engineer</td>\n",
       "    </tr>\n",
       "    <tr>\n",
       "      <th>5</th>\n",
       "      <td>apurva</td>\n",
       "      <td>4star</td>\n",
       "      <td>engineer</td>\n",
       "    </tr>\n",
       "  </tbody>\n",
       "</table>\n",
       "</div>"
      ],
      "text/plain": [
       "        name lifegoal      goal\n",
       "0      swarn    4star  engineer\n",
       "1  sudhanshu    4star  engineer\n",
       "2     apurva    4star  engineer\n",
       "3      swarn    4star  engineer\n",
       "4  sudhanshu    4star  engineer\n",
       "5     apurva    4star  engineer"
      ]
     },
     "execution_count": 24,
     "metadata": {},
     "output_type": "execute_result"
    }
   ],
   "source": [
    "df"
   ]
  },
  {
   "cell_type": "code",
   "execution_count": 25,
   "id": "84f47983-c6a8-45a2-905b-e647e76daf8d",
   "metadata": {},
   "outputs": [
    {
     "name": "stdout",
     "output_type": "stream",
     "text": [
      "engineer\n"
     ]
    }
   ],
   "source": [
    "print(df.loc[1][\"goal\"])"
   ]
  },
  {
   "cell_type": "code",
   "execution_count": 26,
   "id": "0ac941a3-24d7-4e9f-b3bf-99c6f3b66ab0",
   "metadata": {},
   "outputs": [
    {
     "name": "stdout",
     "output_type": "stream",
     "text": [
      "name        sudhanshu\n",
      "lifegoal        4star\n",
      "goal         engineer\n",
      "Name: 1, dtype: object\n"
     ]
    }
   ],
   "source": [
    "print(df.iloc[1])"
   ]
  },
  {
   "cell_type": "code",
   "execution_count": 27,
   "id": "7598834e-60de-4050-a9a5-eb6394eb26fb",
   "metadata": {},
   "outputs": [
    {
     "name": "stdout",
     "output_type": "stream",
     "text": [
      "name        sudhanshu\n",
      "lifegoal        4star\n",
      "goal         engineer\n",
      "Name: 1, dtype: object\n"
     ]
    }
   ],
   "source": [
    "print(df.loc[1])"
   ]
  },
  {
   "cell_type": "code",
   "execution_count": 29,
   "id": "dafda16a-28e2-43c6-8ca2-fd1264e03860",
   "metadata": {},
   "outputs": [
    {
     "name": "stdout",
     "output_type": "stream",
     "text": [
      "        name lifegoal      goal\n",
      "0      swarn    4star  engineer\n",
      "1  sudhanshu    4star  engineer\n",
      "2     apurva    4star  engineer\n",
      "3      swarn    4star  engineer\n",
      "4  sudhanshu    4star  engineer\n"
     ]
    }
   ],
   "source": [
    "print(df.head())"
   ]
  },
  {
   "cell_type": "code",
   "execution_count": 30,
   "id": "4a9ff9c5-0cab-49cf-afc9-b4489b0ffc61",
   "metadata": {},
   "outputs": [
    {
     "name": "stdout",
     "output_type": "stream",
     "text": [
      "        name lifegoal      goal\n",
      "1  sudhanshu    4star  engineer\n",
      "2     apurva    4star  engineer\n",
      "3      swarn    4star  engineer\n",
      "4  sudhanshu    4star  engineer\n",
      "5     apurva    4star  engineer\n"
     ]
    }
   ],
   "source": [
    "print(df.tail())"
   ]
  },
  {
   "cell_type": "code",
   "execution_count": 31,
   "id": "538c8627-bde3-48f7-bc39-3d5848607a0f",
   "metadata": {},
   "outputs": [
    {
     "data": {
      "text/plain": [
       "name        object\n",
       "lifegoal    object\n",
       "goal        object\n",
       "dtype: object"
      ]
     },
     "execution_count": 31,
     "metadata": {},
     "output_type": "execute_result"
    }
   ],
   "source": [
    "df.dtypes"
   ]
  },
  {
   "cell_type": "code",
   "execution_count": 32,
   "id": "3142477c-3ab7-4891-9d5a-711d748aae9c",
   "metadata": {},
   "outputs": [
    {
     "data": {
      "text/html": [
       "<div>\n",
       "<style scoped>\n",
       "    .dataframe tbody tr th:only-of-type {\n",
       "        vertical-align: middle;\n",
       "    }\n",
       "\n",
       "    .dataframe tbody tr th {\n",
       "        vertical-align: top;\n",
       "    }\n",
       "\n",
       "    .dataframe thead th {\n",
       "        text-align: right;\n",
       "    }\n",
       "</style>\n",
       "<table border=\"1\" class=\"dataframe\">\n",
       "  <thead>\n",
       "    <tr style=\"text-align: right;\">\n",
       "      <th></th>\n",
       "      <th>name</th>\n",
       "      <th>lifegoal</th>\n",
       "      <th>goal</th>\n",
       "    </tr>\n",
       "  </thead>\n",
       "  <tbody>\n",
       "    <tr>\n",
       "      <th>count</th>\n",
       "      <td>6</td>\n",
       "      <td>6</td>\n",
       "      <td>6</td>\n",
       "    </tr>\n",
       "    <tr>\n",
       "      <th>unique</th>\n",
       "      <td>3</td>\n",
       "      <td>1</td>\n",
       "      <td>1</td>\n",
       "    </tr>\n",
       "    <tr>\n",
       "      <th>top</th>\n",
       "      <td>swarn</td>\n",
       "      <td>4star</td>\n",
       "      <td>engineer</td>\n",
       "    </tr>\n",
       "    <tr>\n",
       "      <th>freq</th>\n",
       "      <td>2</td>\n",
       "      <td>6</td>\n",
       "      <td>6</td>\n",
       "    </tr>\n",
       "  </tbody>\n",
       "</table>\n",
       "</div>"
      ],
      "text/plain": [
       "         name lifegoal      goal\n",
       "count       6        6         6\n",
       "unique      3        1         1\n",
       "top     swarn    4star  engineer\n",
       "freq        2        6         6"
      ]
     },
     "execution_count": 32,
     "metadata": {},
     "output_type": "execute_result"
    }
   ],
   "source": [
    "df.describe()"
   ]
  },
  {
   "cell_type": "code",
   "execution_count": 33,
   "id": "27c46669-8644-4f76-bb37-834d1b5ce0d8",
   "metadata": {},
   "outputs": [
    {
     "name": "stdout",
     "output_type": "stream",
     "text": [
      "<class 'pandas.core.frame.DataFrame'>\n",
      "RangeIndex: 6 entries, 0 to 5\n",
      "Data columns (total 3 columns):\n",
      " #   Column    Non-Null Count  Dtype \n",
      "---  ------    --------------  ----- \n",
      " 0   name      6 non-null      object\n",
      " 1   lifegoal  6 non-null      object\n",
      " 2   goal      6 non-null      object\n",
      "dtypes: object(3)\n",
      "memory usage: 276.0+ bytes\n"
     ]
    }
   ],
   "source": [
    "df.info()"
   ]
  },
  {
   "cell_type": "code",
   "execution_count": null,
   "id": "1f86f03b-b65d-4696-a48b-1dbc835e88f0",
   "metadata": {},
   "outputs": [],
   "source": []
  }
 ],
 "metadata": {
  "kernelspec": {
   "display_name": "Python 3 (ipykernel)",
   "language": "python",
   "name": "python3"
  },
  "language_info": {
   "codemirror_mode": {
    "name": "ipython",
    "version": 3
   },
   "file_extension": ".py",
   "mimetype": "text/x-python",
   "name": "python",
   "nbconvert_exporter": "python",
   "pygments_lexer": "ipython3",
   "version": "3.12.1"
  }
 },
 "nbformat": 4,
 "nbformat_minor": 5
}
