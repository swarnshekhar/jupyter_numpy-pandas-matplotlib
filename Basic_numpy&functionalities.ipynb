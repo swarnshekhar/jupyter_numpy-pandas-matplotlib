{
 "cells": [
  {
   "cell_type": "code",
   "execution_count": 1,
   "id": "487a215d-dd94-41f2-a3b3-30202b506593",
   "metadata": {},
   "outputs": [],
   "source": [
    "import numpy as np"
   ]
  },
  {
   "cell_type": "code",
   "execution_count": 2,
   "id": "881f02bb-b5df-41c8-8546-132ac64fe589",
   "metadata": {},
   "outputs": [],
   "source": [
    "f=np.arange(5,50,10)"
   ]
  },
  {
   "cell_type": "code",
   "execution_count": 3,
   "id": "d99b18ef-bb64-49d1-9119-beb307875e64",
   "metadata": {},
   "outputs": [
    {
     "data": {
      "text/plain": [
       "array([ 5, 15, 25, 35, 45])"
      ]
     },
     "execution_count": 3,
     "metadata": {},
     "output_type": "execute_result"
    }
   ],
   "source": [
    "f"
   ]
  },
  {
   "cell_type": "code",
   "execution_count": 4,
   "id": "193a97d0-93ef-45f1-b024-d2112fd9ecac",
   "metadata": {},
   "outputs": [],
   "source": [
    "#create an numpy arraay"
   ]
  },
  {
   "cell_type": "code",
   "execution_count": 5,
   "id": "fcf36248-6b8e-4efa-bd87-69095e102530",
   "metadata": {},
   "outputs": [],
   "source": [
    "x=np.arange(10)"
   ]
  },
  {
   "cell_type": "code",
   "execution_count": 6,
   "id": "0b39ab41-a4ad-4688-b827-2a77efcda9ed",
   "metadata": {},
   "outputs": [
    {
     "data": {
      "text/plain": [
       "array([0, 1, 2, 3, 4, 5, 6, 7, 8, 9])"
      ]
     },
     "execution_count": 6,
     "metadata": {},
     "output_type": "execute_result"
    }
   ],
   "source": [
    "x"
   ]
  },
  {
   "cell_type": "code",
   "execution_count": 7,
   "id": "eabe683c-6689-44b7-97f2-229f4e7e89f4",
   "metadata": {},
   "outputs": [
    {
     "data": {
      "text/plain": [
       "array([0, 1, 2, 3, 4])"
      ]
     },
     "execution_count": 7,
     "metadata": {},
     "output_type": "execute_result"
    }
   ],
   "source": [
    "x[:5]"
   ]
  },
  {
   "cell_type": "code",
   "execution_count": 9,
   "id": "0e614ff8-9bb0-4f34-878b-e7eb4532e657",
   "metadata": {},
   "outputs": [
    {
     "name": "stdout",
     "output_type": "stream",
     "text": [
      "every other element [0 2 4 6 8]\n"
     ]
    }
   ],
   "source": [
    "print(\"every other element\",x[::2])"
   ]
  },
  {
   "cell_type": "code",
   "execution_count": 10,
   "id": "99a48ea5-623c-4840-ac6f-4fbbf6aa0626",
   "metadata": {},
   "outputs": [
    {
     "name": "stdout",
     "output_type": "stream",
     "text": [
      "every other element starting at index 1 [1 3 5 7 9]\n"
     ]
    }
   ],
   "source": [
    "print(\"every other element starting at index 1\",x[1::2])"
   ]
  },
  {
   "cell_type": "code",
   "execution_count": 13,
   "id": "f9f1d73f-7dbf-4a53-8e8d-b988eb5f2564",
   "metadata": {},
   "outputs": [
    {
     "name": "stdout",
     "output_type": "stream",
     "text": [
      "element in reverse order [9 8 7 6 5 4 3 2 1 0]\n"
     ]
    }
   ],
   "source": [
    "print(\"element in reverse order\",x[::-1])"
   ]
  },
  {
   "cell_type": "code",
   "execution_count": 14,
   "id": "0a6f0a5c-efd4-4a33-a949-12bf27f52617",
   "metadata": {},
   "outputs": [],
   "source": [
    "x=np.array([1,2,3])"
   ]
  },
  {
   "cell_type": "code",
   "execution_count": 15,
   "id": "cbed77fc-b43a-4beb-a11c-cc0dc84cf385",
   "metadata": {},
   "outputs": [
    {
     "data": {
      "text/plain": [
       "array([1, 2, 3])"
      ]
     },
     "execution_count": 15,
     "metadata": {},
     "output_type": "execute_result"
    }
   ],
   "source": [
    "x"
   ]
  },
  {
   "cell_type": "code",
   "execution_count": 17,
   "id": "e8ebe7e7-d99c-4eb1-ad3e-ccf1c4899fb7",
   "metadata": {},
   "outputs": [],
   "source": [
    "grid=np.array([[4, 5, 6],\n",
    "              [7, 8, 9]])"
   ]
  },
  {
   "cell_type": "code",
   "execution_count": 18,
   "id": "b11f5d15-2b12-477c-970f-ef92612903b1",
   "metadata": {},
   "outputs": [
    {
     "data": {
      "text/plain": [
       "array([[4, 5, 6],\n",
       "       [7, 8, 9]])"
      ]
     },
     "execution_count": 18,
     "metadata": {},
     "output_type": "execute_result"
    }
   ],
   "source": [
    "grid"
   ]
  },
  {
   "cell_type": "code",
   "execution_count": 24,
   "id": "4fc7fc26-1ac7-4fa0-8232-2768a1263d0f",
   "metadata": {},
   "outputs": [
    {
     "data": {
      "text/plain": [
       "array([[1, 2, 3],\n",
       "       [4, 5, 6],\n",
       "       [7, 8, 9]])"
      ]
     },
     "execution_count": 24,
     "metadata": {},
     "output_type": "execute_result"
    }
   ],
   "source": [
    "np.vstack([x,grid])"
   ]
  },
  {
   "cell_type": "code",
   "execution_count": 29,
   "id": "55f18098-acfd-45f2-a717-863a961db778",
   "metadata": {},
   "outputs": [
    {
     "data": {
      "text/plain": [
       "array([[1, 2, 3],\n",
       "       [4, 5, 6],\n",
       "       [7, 8, 9]])"
      ]
     },
     "execution_count": 29,
     "metadata": {},
     "output_type": "execute_result"
    }
   ],
   "source": [
    "np.vstack([x,grid])"
   ]
  },
  {
   "cell_type": "code",
   "execution_count": 31,
   "id": "8514fda7-e9f3-48b8-984f-a3051b5dd6a0",
   "metadata": {},
   "outputs": [
    {
     "data": {
      "text/plain": [
       "array([1, 2, 3, 1, 2, 4])"
      ]
     },
     "execution_count": 31,
     "metadata": {},
     "output_type": "execute_result"
    }
   ],
   "source": [
    "np.concatenate([x,[1,2,4]])"
   ]
  },
  {
   "cell_type": "code",
   "execution_count": 32,
   "id": "3cb520be-cc3f-42bb-8feb-a6596825f0cf",
   "metadata": {},
   "outputs": [],
   "source": [
    "#TO KNOW ABOUT INBUILT FEATURES OF NUMPY JUST NP.TAP\n"
   ]
  },
  {
   "cell_type": "code",
   "execution_count": null,
   "id": "39f07555-423e-41d6-b2cf-65c6584d3327",
   "metadata": {},
   "outputs": [],
   "source": []
  }
 ],
 "metadata": {
  "kernelspec": {
   "display_name": "Python 3 (ipykernel)",
   "language": "python",
   "name": "python3"
  },
  "language_info": {
   "codemirror_mode": {
    "name": "ipython",
    "version": 3
   },
   "file_extension": ".py",
   "mimetype": "text/x-python",
   "name": "python",
   "nbconvert_exporter": "python",
   "pygments_lexer": "ipython3",
   "version": "3.12.1"
  }
 },
 "nbformat": 4,
 "nbformat_minor": 5
}
